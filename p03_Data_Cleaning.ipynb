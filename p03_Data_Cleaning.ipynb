{
 "cells": [
  {
   "cell_type": "markdown",
   "metadata": {},
   "source": [
    "# Predict Startup Success: Data Cleaning\n",
    "\n",
    "Using Crunchbase's dataset, predict whether a startup will succeed (in this case, be acquired or IPO) or close. Assuming this model will be used by potential investors looking to invest in later stages of startups, look at companies with more than 1 funding round."
   ]
  },
  {
   "cell_type": "markdown",
   "metadata": {},
   "source": [
    "## Import Libraries"
   ]
  },
  {
   "cell_type": "code",
   "execution_count": 1,
   "metadata": {},
   "outputs": [],
   "source": [
    "import pandas as pd\n",
    "import numpy as np\n",
    "import datetime as dt\n",
    "import re\n",
    "import pickle\n",
    "import matplotlib.pyplot as plt\n",
    "import seaborn as sns\n",
    "from collections import Counter\n",
    "import pandas_profiling\n",
    "%matplotlib inline"
   ]
  },
  {
   "cell_type": "markdown",
   "metadata": {},
   "source": [
    "## Load the datasets"
   ]
  },
  {
   "cell_type": "code",
   "execution_count": 16,
   "metadata": {},
   "outputs": [],
   "source": [
    "# Crunchbase 2015 dataset\n",
    "\n",
    "# One entry per company\n",
    "companies_df = pd.read_csv('crunchbase-data-master/companies.csv')\n",
    "\n",
    "additions_df = pd.read_csv('crunchbase-data-master/additions.csv')\n",
    "\n",
    "# One entry per company acquisition\n",
    "acquisitions_df = pd.read_csv('crunchbase-data-master/acquisitions.csv')\n",
    "\n",
    "# One entry per investment\n",
    "investments_df = pd.read_csv('crunchbase-data-master/investments.csv')\n",
    "\n",
    "# One entry per round per company\n",
    "rounds_df = pd.read_csv('crunchbase-data-master/rounds.csv')"
   ]
  },
  {
   "cell_type": "markdown",
   "metadata": {},
   "source": [
    "## Data Cleaning"
   ]
  },
  {
   "cell_type": "markdown",
   "metadata": {},
   "source": [
    "### Clean Companies DataFrame"
   ]
  },
  {
   "cell_type": "code",
   "execution_count": 495,
   "metadata": {},
   "outputs": [
    {
     "data": {
      "text/plain": [
       "(66368, 14)"
      ]
     },
     "execution_count": 495,
     "metadata": {},
     "output_type": "execute_result"
    }
   ],
   "source": [
    "companies_df.shape"
   ]
  },
  {
   "cell_type": "markdown",
   "metadata": {},
   "source": [
    "Drop entries with no first funding date"
   ]
  },
  {
   "cell_type": "code",
   "execution_count": 496,
   "metadata": {},
   "outputs": [
    {
     "data": {
      "text/plain": [
       "(66344, 14)"
      ]
     },
     "execution_count": 496,
     "metadata": {},
     "output_type": "execute_result"
    }
   ],
   "source": [
    "clean_companies_df = companies_df.dropna(subset=['first_funding_at'])\n",
    "clean_companies_df.shape"
   ]
  },
  {
   "cell_type": "markdown",
   "metadata": {},
   "source": [
    "**Drop entries with no name**"
   ]
  },
  {
   "cell_type": "code",
   "execution_count": 497,
   "metadata": {},
   "outputs": [
    {
     "data": {
      "text/plain": [
       "(66343, 14)"
      ]
     },
     "execution_count": 497,
     "metadata": {},
     "output_type": "execute_result"
    }
   ],
   "source": [
    "clean_companies_df = clean_companies_df.dropna(subset=['name'])\n",
    "clean_companies_df.shape"
   ]
  },
  {
   "cell_type": "markdown",
   "metadata": {},
   "source": [
    "**Format date objects**\n",
    "\n",
    "Eliminate nonsense dates (1532, for example, was clearly not within the scope of this dataset)"
   ]
  },
  {
   "cell_type": "code",
   "execution_count": 498,
   "metadata": {},
   "outputs": [
    {
     "data": {
      "text/plain": [
       "(66338, 14)"
      ]
     },
     "execution_count": 498,
     "metadata": {},
     "output_type": "execute_result"
    }
   ],
   "source": [
    "# The first two digits of first_funding_at should be 19 or 20\n",
    "clean_companies_df = clean_companies_df[\n",
    "    clean_companies_df.first_funding_at.str.match(r'(19)|(20)')]\n",
    "clean_companies_df = clean_companies_df[\n",
    "    clean_companies_df.last_funding_at.str.match(r'(19)|(20)')]\n",
    "clean_companies_df.shape"
   ]
  },
  {
   "cell_type": "code",
   "execution_count": 499,
   "metadata": {},
   "outputs": [
    {
     "data": {
      "text/plain": [
       "(66338, 14)"
      ]
     },
     "execution_count": 499,
     "metadata": {},
     "output_type": "execute_result"
    }
   ],
   "source": [
    "clean_companies_df.first_funding_at = pd.to_datetime(\n",
    "    clean_companies_df.loc[:, 'first_funding_at'])\n",
    "clean_companies_df.last_funding_at = pd.to_datetime(\n",
    "    clean_companies_df.loc[:, 'last_funding_at'])\n",
    "clean_companies_df.shape"
   ]
  },
  {
   "cell_type": "markdown",
   "metadata": {},
   "source": [
    "**Convert numerical objects**"
   ]
  },
  {
   "cell_type": "code",
   "execution_count": 500,
   "metadata": {},
   "outputs": [],
   "source": [
    "# Fill '-' with NaNs to be treated as numeric\n",
    "clean_companies_df.funding_total_usd.replace('-', np.nan, inplace=True)"
   ]
  },
  {
   "cell_type": "code",
   "execution_count": 501,
   "metadata": {},
   "outputs": [],
   "source": [
    "# Convert objects to numbers\n",
    "\n",
    "clean_companies_df.funding_total_usd = pd.to_numeric(\n",
    "    clean_companies_df.loc[:, 'funding_total_usd'])\n",
    "\n",
    "clean_companies_df.funding_rounds = pd.to_numeric(\n",
    "    clean_companies_df.loc[:, 'funding_rounds'])"
   ]
  },
  {
   "cell_type": "code",
   "execution_count": 502,
   "metadata": {},
   "outputs": [
    {
     "name": "stdout",
     "output_type": "stream",
     "text": [
      "<class 'pandas.core.frame.DataFrame'>\n",
      "Int64Index: 66338 entries, 0 to 66367\n",
      "Data columns (total 14 columns):\n",
      "permalink            66338 non-null object\n",
      "name                 66338 non-null object\n",
      "homepage_url         61280 non-null object\n",
      "category_list        63191 non-null object\n",
      "funding_total_usd    53555 non-null float64\n",
      "status               66338 non-null object\n",
      "country_code         59383 non-null object\n",
      "state_code           57794 non-null object\n",
      "region               58311 non-null object\n",
      "city                 58313 non-null object\n",
      "funding_rounds       66338 non-null int64\n",
      "founded_at           51122 non-null object\n",
      "first_funding_at     66338 non-null datetime64[ns]\n",
      "last_funding_at      66338 non-null datetime64[ns]\n",
      "dtypes: datetime64[ns](2), float64(1), int64(1), object(10)\n",
      "memory usage: 7.6+ MB\n"
     ]
    }
   ],
   "source": [
    "clean_companies_df.info()"
   ]
  },
  {
   "cell_type": "code",
   "execution_count": 503,
   "metadata": {},
   "outputs": [
    {
     "data": {
      "text/plain": [
       "operating    53008\n",
       "closed        6235\n",
       "acquired      5548\n",
       "ipo           1547\n",
       "Name: status, dtype: int64"
      ]
     },
     "execution_count": 503,
     "metadata": {},
     "output_type": "execute_result"
    }
   ],
   "source": [
    "clean_companies_df.status.value_counts()"
   ]
  },
  {
   "cell_type": "code",
   "execution_count": 504,
   "metadata": {},
   "outputs": [],
   "source": [
    "# Drop unnecessary columns\n",
    "clean_companies_df.drop(axis=1, columns=['homepage_url'], inplace=True)"
   ]
  },
  {
   "cell_type": "code",
   "execution_count": 505,
   "metadata": {},
   "outputs": [],
   "source": [
    "# Save to access easily later\n",
    "clean_companies_df.to_pickle('data/small_companies_df')"
   ]
  },
  {
   "cell_type": "code",
   "execution_count": 520,
   "metadata": {},
   "outputs": [
    {
     "data": {
      "text/html": [
       "<div>\n",
       "<style scoped>\n",
       "    .dataframe tbody tr th:only-of-type {\n",
       "        vertical-align: middle;\n",
       "    }\n",
       "\n",
       "    .dataframe tbody tr th {\n",
       "        vertical-align: top;\n",
       "    }\n",
       "\n",
       "    .dataframe thead th {\n",
       "        text-align: right;\n",
       "    }\n",
       "</style>\n",
       "<table border=\"1\" class=\"dataframe\">\n",
       "  <thead>\n",
       "    <tr style=\"text-align: right;\">\n",
       "      <th></th>\n",
       "      <th>permalink</th>\n",
       "      <th>name</th>\n",
       "      <th>category_list</th>\n",
       "      <th>funding_total_usd</th>\n",
       "      <th>status</th>\n",
       "      <th>country_code</th>\n",
       "      <th>state_code</th>\n",
       "      <th>region</th>\n",
       "      <th>city</th>\n",
       "      <th>funding_rounds</th>\n",
       "      <th>founded_at</th>\n",
       "      <th>first_funding_at</th>\n",
       "      <th>last_funding_at</th>\n",
       "    </tr>\n",
       "  </thead>\n",
       "  <tbody>\n",
       "    <tr>\n",
       "      <td>3</td>\n",
       "      <td>/organization/0-6-com</td>\n",
       "      <td>0-6.com</td>\n",
       "      <td>Curated Web</td>\n",
       "      <td>2000000.0</td>\n",
       "      <td>operating</td>\n",
       "      <td>CHN</td>\n",
       "      <td>22</td>\n",
       "      <td>Beijing</td>\n",
       "      <td>Beijing</td>\n",
       "      <td>1</td>\n",
       "      <td>2007-01-01</td>\n",
       "      <td>2008-03-19</td>\n",
       "      <td>2008-03-19</td>\n",
       "    </tr>\n",
       "    <tr>\n",
       "      <td>6</td>\n",
       "      <td>/organization/0ndine-biomedical-inc</td>\n",
       "      <td>Ondine Biomedical Inc.</td>\n",
       "      <td>Biotechnology</td>\n",
       "      <td>762851.0</td>\n",
       "      <td>operating</td>\n",
       "      <td>CAN</td>\n",
       "      <td>BC</td>\n",
       "      <td>Vancouver</td>\n",
       "      <td>Vancouver</td>\n",
       "      <td>2</td>\n",
       "      <td>1997-01-01</td>\n",
       "      <td>2009-09-11</td>\n",
       "      <td>2009-12-21</td>\n",
       "    </tr>\n",
       "    <tr>\n",
       "      <td>12</td>\n",
       "      <td>/organization/1-800-dentist</td>\n",
       "      <td>1-800-DENTIST</td>\n",
       "      <td>Health and Wellness</td>\n",
       "      <td>NaN</td>\n",
       "      <td>operating</td>\n",
       "      <td>USA</td>\n",
       "      <td>CA</td>\n",
       "      <td>Los Angeles</td>\n",
       "      <td>Los Angeles</td>\n",
       "      <td>1</td>\n",
       "      <td>1986-01-01</td>\n",
       "      <td>2010-08-19</td>\n",
       "      <td>2010-08-19</td>\n",
       "    </tr>\n",
       "    <tr>\n",
       "      <td>13</td>\n",
       "      <td>/organization/1-800-doctors</td>\n",
       "      <td>1-800-DOCTORS</td>\n",
       "      <td>Health and Wellness</td>\n",
       "      <td>1750000.0</td>\n",
       "      <td>operating</td>\n",
       "      <td>USA</td>\n",
       "      <td>NJ</td>\n",
       "      <td>Newark</td>\n",
       "      <td>Iselin</td>\n",
       "      <td>1</td>\n",
       "      <td>1984-01-01</td>\n",
       "      <td>2011-03-02</td>\n",
       "      <td>2011-03-02</td>\n",
       "    </tr>\n",
       "    <tr>\n",
       "      <td>17</td>\n",
       "      <td>/organization/10-20-media</td>\n",
       "      <td>10-20 Media</td>\n",
       "      <td>E-Commerce</td>\n",
       "      <td>2050000.0</td>\n",
       "      <td>operating</td>\n",
       "      <td>USA</td>\n",
       "      <td>MD</td>\n",
       "      <td>Baltimore</td>\n",
       "      <td>Woodbine</td>\n",
       "      <td>4</td>\n",
       "      <td>2001-01-01</td>\n",
       "      <td>2009-06-18</td>\n",
       "      <td>2011-12-28</td>\n",
       "    </tr>\n",
       "    <tr>\n",
       "      <td>...</td>\n",
       "      <td>...</td>\n",
       "      <td>...</td>\n",
       "      <td>...</td>\n",
       "      <td>...</td>\n",
       "      <td>...</td>\n",
       "      <td>...</td>\n",
       "      <td>...</td>\n",
       "      <td>...</td>\n",
       "      <td>...</td>\n",
       "      <td>...</td>\n",
       "      <td>...</td>\n",
       "      <td>...</td>\n",
       "      <td>...</td>\n",
       "    </tr>\n",
       "    <tr>\n",
       "      <td>66339</td>\n",
       "      <td>/organization/zylie-the-bear</td>\n",
       "      <td>Zylie the Bear</td>\n",
       "      <td>E-Commerce</td>\n",
       "      <td>75000.0</td>\n",
       "      <td>operating</td>\n",
       "      <td>USA</td>\n",
       "      <td>CT</td>\n",
       "      <td>Hartford</td>\n",
       "      <td>Greenwich</td>\n",
       "      <td>1</td>\n",
       "      <td>2009-01-01</td>\n",
       "      <td>2012-06-07</td>\n",
       "      <td>2012-06-07</td>\n",
       "    </tr>\n",
       "    <tr>\n",
       "      <td>66346</td>\n",
       "      <td>/organization/zympi</td>\n",
       "      <td>Zympi</td>\n",
       "      <td>Mobile|Networking|Web Hosting</td>\n",
       "      <td>NaN</td>\n",
       "      <td>operating</td>\n",
       "      <td>USA</td>\n",
       "      <td>CA</td>\n",
       "      <td>Ontario - Inland Empire</td>\n",
       "      <td>Redlands</td>\n",
       "      <td>1</td>\n",
       "      <td>2010-09-03</td>\n",
       "      <td>2011-11-22</td>\n",
       "      <td>2011-11-22</td>\n",
       "    </tr>\n",
       "    <tr>\n",
       "      <td>66353</td>\n",
       "      <td>/organization/zyngenia</td>\n",
       "      <td>Zyngenia</td>\n",
       "      <td>Biotechnology</td>\n",
       "      <td>25000000.0</td>\n",
       "      <td>operating</td>\n",
       "      <td>USA</td>\n",
       "      <td>MD</td>\n",
       "      <td>Washington, D.C.</td>\n",
       "      <td>Gaithersburg</td>\n",
       "      <td>1</td>\n",
       "      <td>2008-01-01</td>\n",
       "      <td>2010-09-09</td>\n",
       "      <td>2010-09-09</td>\n",
       "    </tr>\n",
       "    <tr>\n",
       "      <td>66359</td>\n",
       "      <td>/organization/zyrra</td>\n",
       "      <td>Zyrra</td>\n",
       "      <td>E-Commerce</td>\n",
       "      <td>1510500.0</td>\n",
       "      <td>operating</td>\n",
       "      <td>USA</td>\n",
       "      <td>MA</td>\n",
       "      <td>Boston</td>\n",
       "      <td>Cambridge</td>\n",
       "      <td>4</td>\n",
       "      <td>NaN</td>\n",
       "      <td>2010-10-21</td>\n",
       "      <td>2012-10-18</td>\n",
       "    </tr>\n",
       "    <tr>\n",
       "      <td>66363</td>\n",
       "      <td>/organization/zznode-science-and-technology-co...</td>\n",
       "      <td>ZZNode Science and Technology</td>\n",
       "      <td>Enterprise Software</td>\n",
       "      <td>1587301.0</td>\n",
       "      <td>operating</td>\n",
       "      <td>CHN</td>\n",
       "      <td>22</td>\n",
       "      <td>Beijing</td>\n",
       "      <td>Beijing</td>\n",
       "      <td>1</td>\n",
       "      <td>NaN</td>\n",
       "      <td>2012-04-01</td>\n",
       "      <td>2012-04-01</td>\n",
       "    </tr>\n",
       "  </tbody>\n",
       "</table>\n",
       "<p>16531 rows × 13 columns</p>\n",
       "</div>"
      ],
      "text/plain": [
       "                                               permalink  \\\n",
       "3                                  /organization/0-6-com   \n",
       "6                    /organization/0ndine-biomedical-inc   \n",
       "12                           /organization/1-800-dentist   \n",
       "13                           /organization/1-800-doctors   \n",
       "17                             /organization/10-20-media   \n",
       "...                                                  ...   \n",
       "66339                       /organization/zylie-the-bear   \n",
       "66346                                /organization/zympi   \n",
       "66353                             /organization/zyngenia   \n",
       "66359                                /organization/zyrra   \n",
       "66363  /organization/zznode-science-and-technology-co...   \n",
       "\n",
       "                                name                  category_list  \\\n",
       "3                            0-6.com                    Curated Web   \n",
       "6             Ondine Biomedical Inc.                  Biotechnology   \n",
       "12                     1-800-DENTIST            Health and Wellness   \n",
       "13                     1-800-DOCTORS            Health and Wellness   \n",
       "17                       10-20 Media                     E-Commerce   \n",
       "...                              ...                            ...   \n",
       "66339                 Zylie the Bear                     E-Commerce   \n",
       "66346                          Zympi  Mobile|Networking|Web Hosting   \n",
       "66353                       Zyngenia                  Biotechnology   \n",
       "66359                          Zyrra                     E-Commerce   \n",
       "66363  ZZNode Science and Technology            Enterprise Software   \n",
       "\n",
       "       funding_total_usd     status country_code state_code  \\\n",
       "3              2000000.0  operating          CHN         22   \n",
       "6               762851.0  operating          CAN         BC   \n",
       "12                   NaN  operating          USA         CA   \n",
       "13             1750000.0  operating          USA         NJ   \n",
       "17             2050000.0  operating          USA         MD   \n",
       "...                  ...        ...          ...        ...   \n",
       "66339            75000.0  operating          USA         CT   \n",
       "66346                NaN  operating          USA         CA   \n",
       "66353         25000000.0  operating          USA         MD   \n",
       "66359          1510500.0  operating          USA         MA   \n",
       "66363          1587301.0  operating          CHN         22   \n",
       "\n",
       "                        region          city  funding_rounds  founded_at  \\\n",
       "3                      Beijing       Beijing               1  2007-01-01   \n",
       "6                    Vancouver     Vancouver               2  1997-01-01   \n",
       "12                 Los Angeles   Los Angeles               1  1986-01-01   \n",
       "13                      Newark        Iselin               1  1984-01-01   \n",
       "17                   Baltimore      Woodbine               4  2001-01-01   \n",
       "...                        ...           ...             ...         ...   \n",
       "66339                 Hartford     Greenwich               1  2009-01-01   \n",
       "66346  Ontario - Inland Empire      Redlands               1  2010-09-03   \n",
       "66353         Washington, D.C.  Gaithersburg               1  2008-01-01   \n",
       "66359                   Boston     Cambridge               4         NaN   \n",
       "66363                  Beijing       Beijing               1         NaN   \n",
       "\n",
       "      first_funding_at last_funding_at  \n",
       "3           2008-03-19      2008-03-19  \n",
       "6           2009-09-11      2009-12-21  \n",
       "12          2010-08-19      2010-08-19  \n",
       "13          2011-03-02      2011-03-02  \n",
       "17          2009-06-18      2011-12-28  \n",
       "...                ...             ...  \n",
       "66339       2012-06-07      2012-06-07  \n",
       "66346       2011-11-22      2011-11-22  \n",
       "66353       2010-09-09      2010-09-09  \n",
       "66359       2010-10-21      2012-10-18  \n",
       "66363       2012-04-01      2012-04-01  \n",
       "\n",
       "[16531 rows x 13 columns]"
      ]
     },
     "execution_count": 520,
     "metadata": {},
     "output_type": "execute_result"
    }
   ],
   "source": [
    "# See how many operating companies were last funded more than 2.5 years ago\n",
    "clean_companies_df[np.logical_and(\n",
    "    np.logical_and(clean_companies_df.last_funding_at < pd.to_datetime('2013'),\n",
    "                   clean_companies_df.first_funding_at > '2005'),\n",
    "    clean_companies_df.status == 'operating')]"
   ]
  },
  {
   "cell_type": "code",
   "execution_count": 581,
   "metadata": {},
   "outputs": [],
   "source": [
    "# Create dataset containing only companies that failed or succeeded\n",
    "\n",
    "current_date = clean_companies_df.last_funding_at.max()\n",
    "\n",
    "nonoperating_companies_df = clean_companies_df[np.logical_or(\n",
    "    clean_companies_df.status != 'operating',\n",
    "    np.logical_and(\n",
    "        np.logical_and(\n",
    "            clean_companies_df.status == 'operating',\n",
    "            clean_companies_df.first_funding_at >\n",
    "            current_year - pd.offsets.DateOffset(years=10)),\n",
    "        clean_companies_df.last_funding_at < current_year -\n",
    "        pd.offsets.DateOffset(years=2, months=6)))].reset_index()"
   ]
  },
  {
   "cell_type": "code",
   "execution_count": 655,
   "metadata": {},
   "outputs": [],
   "source": [
    "nonoperating_companies_df.drop(columns='index', axis=1, inplace=True)"
   ]
  },
  {
   "cell_type": "code",
   "execution_count": 656,
   "metadata": {},
   "outputs": [
    {
     "data": {
      "text/plain": [
       "(32426, 14)"
      ]
     },
     "execution_count": 656,
     "metadata": {},
     "output_type": "execute_result"
    }
   ],
   "source": [
    "nonoperating_companies_df.shape"
   ]
  },
  {
   "cell_type": "code",
   "execution_count": 593,
   "metadata": {},
   "outputs": [],
   "source": [
    "# Create binary status column where 0 = closed, 1 = aqcquired/IPO\n",
    "nonoperating_companies_df['status_bool'] = np.nan\n",
    "\n",
    "# Fill the column\n",
    "nonoperating_companies_df.loc[np.logical_or(\n",
    "    nonoperating_companies_df.status == 'closed', nonoperating_companies_df.\n",
    "    status == 'operating'), 'status_bool'] = 0\n",
    "nonoperating_companies_df.loc[np.logical_or(\n",
    "    nonoperating_companies_df.status == 'ipo', nonoperating_companies_df.status\n",
    "    == 'acquired'), 'status_bool'] = 1"
   ]
  },
  {
   "cell_type": "code",
   "execution_count": 594,
   "metadata": {},
   "outputs": [
    {
     "data": {
      "text/plain": [
       "0.0    25331\n",
       "1.0     7095\n",
       "Name: status_bool, dtype: int64"
      ]
     },
     "execution_count": 594,
     "metadata": {},
     "output_type": "execute_result"
    }
   ],
   "source": [
    "nonoperating_companies_df.status_bool.value_counts()"
   ]
  },
  {
   "cell_type": "code",
   "execution_count": 605,
   "metadata": {},
   "outputs": [
    {
     "data": {
      "text/plain": [
       "6605"
      ]
     },
     "execution_count": 605,
     "metadata": {},
     "output_type": "execute_result"
    }
   ],
   "source": [
    "# How many companies don't have funding dollar info?\n",
    "nonoperating_companies_df.funding_total_usd.isna().sum()"
   ]
  },
  {
   "cell_type": "code",
   "execution_count": 657,
   "metadata": {},
   "outputs": [
    {
     "data": {
      "text/html": [
       "<div>\n",
       "<style scoped>\n",
       "    .dataframe tbody tr th:only-of-type {\n",
       "        vertical-align: middle;\n",
       "    }\n",
       "\n",
       "    .dataframe tbody tr th {\n",
       "        vertical-align: top;\n",
       "    }\n",
       "\n",
       "    .dataframe thead th {\n",
       "        text-align: right;\n",
       "    }\n",
       "</style>\n",
       "<table border=\"1\" class=\"dataframe\">\n",
       "  <thead>\n",
       "    <tr style=\"text-align: right;\">\n",
       "      <th></th>\n",
       "      <th>permalink</th>\n",
       "      <th>name</th>\n",
       "      <th>category_list</th>\n",
       "      <th>funding_total_usd</th>\n",
       "      <th>status</th>\n",
       "      <th>country_code</th>\n",
       "      <th>state_code</th>\n",
       "      <th>region</th>\n",
       "      <th>city</th>\n",
       "      <th>funding_rounds</th>\n",
       "      <th>founded_at</th>\n",
       "      <th>first_funding_at</th>\n",
       "      <th>last_funding_at</th>\n",
       "      <th>status_bool</th>\n",
       "    </tr>\n",
       "  </thead>\n",
       "  <tbody>\n",
       "    <tr>\n",
       "      <td>2273</td>\n",
       "      <td>/organization/artabler</td>\n",
       "      <td>Artabler</td>\n",
       "      <td>NaN</td>\n",
       "      <td>NaN</td>\n",
       "      <td>closed</td>\n",
       "      <td>NaN</td>\n",
       "      <td>NaN</td>\n",
       "      <td>NaN</td>\n",
       "      <td>NaN</td>\n",
       "      <td>1</td>\n",
       "      <td>NaN</td>\n",
       "      <td>2015-08-23</td>\n",
       "      <td>2015-08-23</td>\n",
       "      <td>0.0</td>\n",
       "    </tr>\n",
       "    <tr>\n",
       "      <td>17838</td>\n",
       "      <td>/organization/mobicanvas</td>\n",
       "      <td>mobicanvas</td>\n",
       "      <td>Mobile|Web Development</td>\n",
       "      <td>50000.0</td>\n",
       "      <td>closed</td>\n",
       "      <td>ZAF</td>\n",
       "      <td>NaN</td>\n",
       "      <td>Cape Town</td>\n",
       "      <td>Stellenbosch</td>\n",
       "      <td>1</td>\n",
       "      <td>2011-01-01</td>\n",
       "      <td>2011-02-01</td>\n",
       "      <td>2011-02-01</td>\n",
       "      <td>0.0</td>\n",
       "    </tr>\n",
       "    <tr>\n",
       "      <td>16483</td>\n",
       "      <td>/organization/lyceem</td>\n",
       "      <td>LYCEEM</td>\n",
       "      <td>Travel</td>\n",
       "      <td>NaN</td>\n",
       "      <td>operating</td>\n",
       "      <td>NaN</td>\n",
       "      <td>NaN</td>\n",
       "      <td>NaN</td>\n",
       "      <td>NaN</td>\n",
       "      <td>1</td>\n",
       "      <td>NaN</td>\n",
       "      <td>2011-12-01</td>\n",
       "      <td>2011-12-01</td>\n",
       "      <td>0.0</td>\n",
       "    </tr>\n",
       "    <tr>\n",
       "      <td>8531</td>\n",
       "      <td>/organization/efer-io</td>\n",
       "      <td>Eferio</td>\n",
       "      <td>Android|App Stores|Gift Card|Mobile|Mobile Pay...</td>\n",
       "      <td>613677.0</td>\n",
       "      <td>operating</td>\n",
       "      <td>SWE</td>\n",
       "      <td>27</td>\n",
       "      <td>Malmo</td>\n",
       "      <td>Malmö</td>\n",
       "      <td>1</td>\n",
       "      <td>2012-08-01</td>\n",
       "      <td>2012-08-01</td>\n",
       "      <td>2012-08-01</td>\n",
       "      <td>0.0</td>\n",
       "    </tr>\n",
       "    <tr>\n",
       "      <td>15779</td>\n",
       "      <td>/organization/lexicon-pharmaceuticals</td>\n",
       "      <td>Lexicon Pharmaceuticals</td>\n",
       "      <td>Biotechnology</td>\n",
       "      <td>244702780.0</td>\n",
       "      <td>ipo</td>\n",
       "      <td>USA</td>\n",
       "      <td>TX</td>\n",
       "      <td>Houston</td>\n",
       "      <td>Houston</td>\n",
       "      <td>4</td>\n",
       "      <td>1995-01-01</td>\n",
       "      <td>2010-03-15</td>\n",
       "      <td>2014-12-12</td>\n",
       "      <td>1.0</td>\n",
       "    </tr>\n",
       "  </tbody>\n",
       "</table>\n",
       "</div>"
      ],
      "text/plain": [
       "                                   permalink                     name  \\\n",
       "2273                  /organization/artabler                 Artabler   \n",
       "17838               /organization/mobicanvas               mobicanvas   \n",
       "16483                   /organization/lyceem                   LYCEEM   \n",
       "8531                   /organization/efer-io                   Eferio   \n",
       "15779  /organization/lexicon-pharmaceuticals  Lexicon Pharmaceuticals   \n",
       "\n",
       "                                           category_list  funding_total_usd  \\\n",
       "2273                                                 NaN                NaN   \n",
       "17838                             Mobile|Web Development            50000.0   \n",
       "16483                                             Travel                NaN   \n",
       "8531   Android|App Stores|Gift Card|Mobile|Mobile Pay...           613677.0   \n",
       "15779                                      Biotechnology        244702780.0   \n",
       "\n",
       "          status country_code state_code     region          city  \\\n",
       "2273      closed          NaN        NaN        NaN           NaN   \n",
       "17838     closed          ZAF        NaN  Cape Town  Stellenbosch   \n",
       "16483  operating          NaN        NaN        NaN           NaN   \n",
       "8531   operating          SWE         27      Malmo         Malmö   \n",
       "15779        ipo          USA         TX    Houston       Houston   \n",
       "\n",
       "       funding_rounds  founded_at first_funding_at last_funding_at  \\\n",
       "2273                1         NaN       2015-08-23      2015-08-23   \n",
       "17838               1  2011-01-01       2011-02-01      2011-02-01   \n",
       "16483               1         NaN       2011-12-01      2011-12-01   \n",
       "8531                1  2012-08-01       2012-08-01      2012-08-01   \n",
       "15779               4  1995-01-01       2010-03-15      2014-12-12   \n",
       "\n",
       "       status_bool  \n",
       "2273           0.0  \n",
       "17838          0.0  \n",
       "16483          0.0  \n",
       "8531           0.0  \n",
       "15779          1.0  "
      ]
     },
     "execution_count": 657,
     "metadata": {},
     "output_type": "execute_result"
    }
   ],
   "source": [
    "nonoperating_companies_df.sample(5)"
   ]
  },
  {
   "cell_type": "markdown",
   "metadata": {},
   "source": [
    "### Clean Rounds DataFrame\n",
    "\n",
    "This dataset contains information about the individual funding rounds for each company"
   ]
  },
  {
   "cell_type": "code",
   "execution_count": 452,
   "metadata": {},
   "outputs": [
    {
     "data": {
      "text/plain": [
       "(114949, 12)"
      ]
     },
     "execution_count": 452,
     "metadata": {},
     "output_type": "execute_result"
    }
   ],
   "source": [
    "rounds_df.shape"
   ]
  },
  {
   "cell_type": "markdown",
   "metadata": {},
   "source": [
    "Only interested in pre-acquisition / pre-IPO so eliminate rows outside of this"
   ]
  },
  {
   "cell_type": "code",
   "execution_count": 17,
   "metadata": {},
   "outputs": [],
   "source": [
    "clean_rounds_df = rounds_df[np.logical_and(\n",
    "    rounds_df.funding_round_type != 'post_ipo_equity',\n",
    "    rounds_df.funding_round_type != 'post_ipo_debt')]"
   ]
  },
  {
   "cell_type": "code",
   "execution_count": 18,
   "metadata": {},
   "outputs": [
    {
     "data": {
      "text/plain": [
       "(114159, 12)"
      ]
     },
     "execution_count": 18,
     "metadata": {},
     "output_type": "execute_result"
    }
   ],
   "source": [
    "clean_rounds_df.shape"
   ]
  },
  {
   "cell_type": "code",
   "execution_count": 19,
   "metadata": {},
   "outputs": [
    {
     "name": "stderr",
     "output_type": "stream",
     "text": [
      "/anaconda3/envs/metis/lib/python3.6/site-packages/pandas/core/generic.py:5208: SettingWithCopyWarning: \n",
      "A value is trying to be set on a copy of a slice from a DataFrame.\n",
      "Try using .loc[row_indexer,col_indexer] = value instead\n",
      "\n",
      "See the caveats in the documentation: http://pandas.pydata.org/pandas-docs/stable/user_guide/indexing.html#returning-a-view-versus-a-copy\n",
      "  self[name] = value\n"
     ]
    }
   ],
   "source": [
    "# Convert date column to datetime object\n",
    "clean_rounds_df.funded_at = pd.to_datetime(clean_rounds_df.loc[:, 'funded_at'])"
   ]
  },
  {
   "cell_type": "code",
   "execution_count": 20,
   "metadata": {},
   "outputs": [
    {
     "data": {
      "text/plain": [
       "Index(['company_permalink', 'company_name', 'company_category_list',\n",
       "       'company_country_code', 'company_state_code', 'company_region',\n",
       "       'company_city', 'funding_round_permalink', 'funding_round_type',\n",
       "       'funding_round_code', 'funded_at', 'raised_amount_usd'],\n",
       "      dtype='object')"
      ]
     },
     "execution_count": 20,
     "metadata": {},
     "output_type": "execute_result"
    }
   ],
   "source": [
    "clean_rounds_df.columns"
   ]
  },
  {
   "cell_type": "code",
   "execution_count": 21,
   "metadata": {},
   "outputs": [
    {
     "name": "stdout",
     "output_type": "stream",
     "text": [
      "<class 'pandas.core.frame.DataFrame'>\n",
      "Int64Index: 114159 entries, 0 to 114948\n",
      "Data columns (total 12 columns):\n",
      "company_permalink          114159 non-null object\n",
      "company_name               114158 non-null object\n",
      "company_category_list      110753 non-null object\n",
      "company_country_code       105509 non-null object\n",
      "company_state_code         103252 non-null object\n",
      "company_region             104028 non-null object\n",
      "company_city               104031 non-null object\n",
      "funding_round_permalink    114159 non-null object\n",
      "funding_round_type         114159 non-null object\n",
      "funding_round_code         31138 non-null object\n",
      "funded_at                  114159 non-null datetime64[ns]\n",
      "raised_amount_usd          94179 non-null float64\n",
      "dtypes: datetime64[ns](1), float64(1), object(10)\n",
      "memory usage: 11.3+ MB\n"
     ]
    }
   ],
   "source": [
    "clean_rounds_df.info()"
   ]
  },
  {
   "cell_type": "markdown",
   "metadata": {},
   "source": [
    "## Features: average time between rounds, average amount raised"
   ]
  },
  {
   "cell_type": "code",
   "execution_count": 22,
   "metadata": {},
   "outputs": [
    {
     "name": "stderr",
     "output_type": "stream",
     "text": [
      "/anaconda3/envs/metis/lib/python3.6/site-packages/ipykernel_launcher.py:2: SettingWithCopyWarning: \n",
      "A value is trying to be set on a copy of a slice from a DataFrame\n",
      "\n",
      "See the caveats in the documentation: http://pandas.pydata.org/pandas-docs/stable/user_guide/indexing.html#returning-a-view-versus-a-copy\n",
      "  \n"
     ]
    }
   ],
   "source": [
    "# Sort rounds_df by company and date\n",
    "clean_rounds_df.sort_values(by=['company_name', 'funded_at'],\n",
    "                            ascending=True,\n",
    "                            inplace=True)"
   ]
  },
  {
   "cell_type": "code",
   "execution_count": 23,
   "metadata": {},
   "outputs": [
    {
     "name": "stderr",
     "output_type": "stream",
     "text": [
      "/anaconda3/envs/metis/lib/python3.6/site-packages/ipykernel_launcher.py:2: SettingWithCopyWarning: \n",
      "A value is trying to be set on a copy of a slice from a DataFrame.\n",
      "Try using .loc[row_indexer,col_indexer] = value instead\n",
      "\n",
      "See the caveats in the documentation: http://pandas.pydata.org/pandas-docs/stable/user_guide/indexing.html#returning-a-view-versus-a-copy\n",
      "  \n"
     ]
    }
   ],
   "source": [
    "# Create column for time between rounds\n",
    "clean_rounds_df['time_between_next_round'] = clean_rounds_df.groupby(\n",
    "    'company_name').funded_at.diff()"
   ]
  },
  {
   "cell_type": "code",
   "execution_count": 24,
   "metadata": {},
   "outputs": [],
   "source": [
    "# Calculate average time between rounds and average round amount raised ($)\n",
    "\n",
    "avg_round_time_amount = clean_rounds_df.groupby('company_name').agg({\n",
    "    'time_between_next_round':\n",
    "    pd.Series.mean,\n",
    "    'raised_amount_usd':\n",
    "    'mean'\n",
    "}).rename(\n",
    "    columns={\n",
    "        'time_between_next_round': 'avg_time_bw_rounds',\n",
    "        'raised_amount_usd': 'avg_raise_usd'\n",
    "    }).reset_index()"
   ]
  },
  {
   "cell_type": "code",
   "execution_count": null,
   "metadata": {},
   "outputs": [],
   "source": [
    "# Merge into main df\n",
    "\n",
    "nonoperating_companies_df = nonoperating_companies_df.merge(\n",
    "    avg_round_time_amount, how='left', left_on='name', right_on='company_name')"
   ]
  },
  {
   "cell_type": "markdown",
   "metadata": {},
   "source": [
    "### Features: time between first and second round"
   ]
  },
  {
   "cell_type": "code",
   "execution_count": null,
   "metadata": {},
   "outputs": [],
   "source": [
    "# Create column in main df\n",
    "nonoperating_companies_df['time_bw_first_rounds'] = dt.timedelta(0)\n",
    "\n",
    "for company in clean_rounds_df.company_name.unique():\n",
    "    if len(clean_rounds_df[clean_rounds_df.company_name ==\n",
    "                           company].funded_at) > 1:\n",
    "        nonoperating_companies_df.loc[\n",
    "            nonoperating_companies_df.name ==\n",
    "            company, 'time_bw_first_rounds'] = clean_rounds_df[\n",
    "                clean_rounds_df.company_name == company].funded_at.values[\n",
    "                    1] - clean_rounds_df[clean_rounds_df.company_name ==\n",
    "                                         company].funded_at.values[0]"
   ]
  },
  {
   "cell_type": "code",
   "execution_count": 239,
   "metadata": {},
   "outputs": [],
   "source": [
    "nonoperating_companies_df.to_pickle('data/nonoperating_companies_df.pickle')\n",
    "nonoperating_companies_df.to_pickle('data/df_before_categories.pickle')"
   ]
  },
  {
   "cell_type": "markdown",
   "metadata": {},
   "source": [
    "### Features: Categories"
   ]
  },
  {
   "cell_type": "markdown",
   "metadata": {},
   "source": [
    "Look at the distribution of features amongst the companies to see if there are any that dominate.\n",
    "Note that for companies with multiple categories they are listed in alphabetical order"
   ]
  },
  {
   "cell_type": "code",
   "execution_count": 236,
   "metadata": {},
   "outputs": [],
   "source": [
    "with open('data/nonoperating_companies_df.pickle', 'rb') as read_file:\n",
    "    nonoperating_companies_df = pickle.load(read_file)"
   ]
  },
  {
   "cell_type": "code",
   "execution_count": 237,
   "metadata": {},
   "outputs": [],
   "source": [
    "# Fill empty category with 'unknown'\n",
    "nonoperating_companies_df.category_list.fillna('unknown', inplace=True)\n",
    "# Create column with list of categories\n",
    "nonoperating_companies_df[\n",
    "    'cat_list'] = nonoperating_companies_df.category_list.apply(str.split,\n",
    "                                                                sep='|')"
   ]
  },
  {
   "cell_type": "markdown",
   "metadata": {},
   "source": [
    "Look at the distribution of categories"
   ]
  },
  {
   "cell_type": "code",
   "execution_count": 238,
   "metadata": {},
   "outputs": [
    {
     "data": {
      "image/png": "[encoded data removed]",
      "text/plain": [
       "<Figure size 648x360 with 1 Axes>"
      ]
     },
     "metadata": {
      "needs_background": "light"
     },
     "output_type": "display_data"
    }
   ],
   "source": [
    "# Create list of category lists\n",
    "categories = list(nonoperating_companies_df.cat_list)\n",
    "# Flatten the list\n",
    "flat_categories = [cat for sublist in categories for cat in sublist]\n",
    "# Count occurences of each\n",
    "category_counts = Counter(flat_categories).most_common()\n",
    "# Look at the distribution\n",
    "plt.figure(figsize=(9, 5))\n",
    "plt.bar([x[0] for x in category_counts[0:50]],\n",
    "        [x[1] for x in category_counts[0:50]],\n",
    "        width=0.8)\n",
    "plt.xticks(rotation=90)\n",
    "plt.title('50 Most Commonly Occuring Categories')\n",
    "sns.despine()"
   ]
  },
  {
   "cell_type": "code",
   "execution_count": 240,
   "metadata": {},
   "outputs": [],
   "source": [
    "# Take the top 25\n",
    "top_cats = [x[0] for x in category_counts[0:25]]"
   ]
  },
  {
   "cell_type": "markdown",
   "metadata": {},
   "source": [
    "For each company with a category listed in the top 25 categories, replace its cat_list with that single category"
   ]
  },
  {
   "cell_type": "code",
   "execution_count": 241,
   "metadata": {},
   "outputs": [],
   "source": [
    "nonoperating_companies_df.cat_list = nonoperating_companies_df.cat_list.map(\n",
    "    lambda x: list(set(x) & set(top_cats))\n",
    "    if set(x) & set(top_cats) else ['0_other_cat'])"
   ]
  },
  {
   "cell_type": "markdown",
   "metadata": {},
   "source": [
    "Look at category distribution again with simplified categories"
   ]
  },
  {
   "cell_type": "code",
   "execution_count": 242,
   "metadata": {},
   "outputs": [
    {
     "data": {
      "image/png": "[encoded data removed]",
      "text/plain": [
       "<Figure size 648x360 with 1 Axes>"
      ]
     },
     "metadata": {
      "needs_background": "light"
     },
     "output_type": "display_data"
    }
   ],
   "source": [
    "# Create list of category lists\n",
    "categories = list(nonoperating_companies_df.cat_list)\n",
    "# Flatten the list\n",
    "flat_categories = [cat for sublist in categories for cat in sublist]\n",
    "# Count occurences of each\n",
    "category_counts = Counter(flat_categories).most_common()\n",
    "# Look at the distribution\n",
    "plt.figure(figsize=(9, 5))\n",
    "plt.bar([x[0] for x in category_counts[0:25]],\n",
    "        [x[1] for x in category_counts[0:25]],\n",
    "        width=0.8)\n",
    "plt.xticks(rotation=90)\n",
    "sns.despine()\n",
    "plt.title('Top Categories')"
   ]
  },
  {
   "cell_type": "code",
   "execution_count": 243,
   "metadata": {},
   "outputs": [],
   "source": [
    "# This will be used to create dummy variables in the feature matrix\n",
    "nonoperating_companies_df.cat_list = nonoperating_companies_df.cat_list.apply(\n",
    "    lambda x: x[0])"
   ]
  },
  {
   "cell_type": "code",
   "execution_count": 244,
   "metadata": {},
   "outputs": [],
   "source": [
    "nonoperating_companies_df.to_pickle('data/nonoperating_companies_df.pickle')"
   ]
  },
  {
   "cell_type": "markdown",
   "metadata": {},
   "source": [
    "### Features: Location"
   ]
  },
  {
   "cell_type": "markdown",
   "metadata": {},
   "source": [
    "Look at the distributions of country, state, region, city"
   ]
  },
  {
   "cell_type": "code",
   "execution_count": 245,
   "metadata": {},
   "outputs": [],
   "source": [
    "# Country\n",
    "# Fill empty country with 'unknown'\n",
    "nonoperating_companies_df.country_code.fillna('unknown', inplace=True)"
   ]
  },
  {
   "cell_type": "code",
   "execution_count": 246,
   "metadata": {},
   "outputs": [
    {
     "data": {
      "image/png": "[encoded data removed]",
      "text/plain": [
       "<Figure size 432x288 with 1 Axes>"
      ]
     },
     "metadata": {
      "needs_background": "light"
     },
     "output_type": "display_data"
    }
   ],
   "source": [
    "# Look at distribution\n",
    "country_dist = nonoperating_companies_df.groupby(\n",
    "    'country_code').size().sort_values(ascending=False)\n",
    "plt.bar(country_dist[0:10].index, height=country_dist[0:10].values)\n",
    "plt.xticks(rotation=90)\n",
    "sns.despine()\n",
    "plt.title('Distribution of Top 10 Countries')"
   ]
  },
  {
   "cell_type": "code",
   "execution_count": 247,
   "metadata": {},
   "outputs": [],
   "source": [
    "# Countries with more than 500\n",
    "top_countries = nonoperating_companies_df.groupby('country_code').size() > 300\n",
    "\n",
    "# Companies from countries with less than 300 companies go to 'other'\n",
    "nonoperating_companies_df[\n",
    "    'country'] = nonoperating_companies_df.country_code.apply(\n",
    "        lambda x: x if top_countries[x] else '0_other_country')"
   ]
  },
  {
   "cell_type": "code",
   "execution_count": 248,
   "metadata": {},
   "outputs": [],
   "source": [
    "# Since the large majority are in the USA look at states too\n",
    "# State\n",
    "# Fill empty state with 'unknown'\n",
    "nonoperating_companies_df.state_code.fillna('unknown', inplace=True)"
   ]
  },
  {
   "cell_type": "code",
   "execution_count": 249,
   "metadata": {},
   "outputs": [
    {
     "data": {
      "image/png": "[encoded data removed]",
      "text/plain": [
       "<Figure size 432x288 with 1 Axes>"
      ]
     },
     "metadata": {
      "needs_background": "light"
     },
     "output_type": "display_data"
    }
   ],
   "source": [
    "# Look at distribution\n",
    "state_dist = nonoperating_companies_df.groupby(\n",
    "    'state_code').size().sort_values(ascending=False)\n",
    "plt.bar(state_dist[0:10].index, height=state_dist[0:10].values)\n",
    "plt.xticks(rotation=90)\n",
    "sns.despine()\n",
    "plt.title('Distribution of Top 10 States')"
   ]
  },
  {
   "cell_type": "code",
   "execution_count": 250,
   "metadata": {},
   "outputs": [],
   "source": [
    "# States with more than 500\n",
    "top_states = nonoperating_companies_df.groupby('state_code').size() > 500\n",
    "\n",
    "# Companies from states with less than 1000 companies go to 'other'\n",
    "nonoperating_companies_df[\n",
    "    'state'] = nonoperating_companies_df.state_code.apply(\n",
    "        lambda x: x if top_states[x] else '0_other_state')"
   ]
  },
  {
   "cell_type": "code",
   "execution_count": 251,
   "metadata": {},
   "outputs": [],
   "source": [
    "nonoperating_companies_df.to_pickle('data/nonoperating_companies_df.pickle')"
   ]
  },
  {
   "cell_type": "code",
   "execution_count": 252,
   "metadata": {},
   "outputs": [
    {
     "data": {
      "text/plain": [
       "operating    14661\n",
       "closed        4794\n",
       "acquired      2664\n",
       "ipo            646\n",
       "Name: status, dtype: int64"
      ]
     },
     "execution_count": 252,
     "metadata": {},
     "output_type": "execute_result"
    }
   ],
   "source": [
    "nonoperating_companies_df[nonoperating_companies_df.funding_rounds ==\n",
    "                          1].status.value_counts()"
   ]
  },
  {
   "cell_type": "markdown",
   "metadata": {},
   "source": [
    "### Features: Labeled Rounds (unfinished)\n",
    "#### Seed Round\n",
    "Interested to see if having labeled seed rounds and labeled venture rounds vs no seed rounds and unlabeled venture rounds makes a difference in predicting startup success"
   ]
  },
  {
   "cell_type": "code",
   "execution_count": 253,
   "metadata": {},
   "outputs": [
    {
     "name": "stderr",
     "output_type": "stream",
     "text": [
      "/anaconda3/envs/metis/lib/python3.6/site-packages/ipykernel_launcher.py:11: SettingWithCopyWarning: \n",
      "A value is trying to be set on a copy of a slice from a DataFrame.\n",
      "Try using .loc[row_indexer,col_indexer] = value instead\n",
      "\n",
      "See the caveats in the documentation: http://pandas.pydata.org/pandas-docs/stable/user_guide/indexing.html#returning-a-view-versus-a-copy\n",
      "  # This is added back by InteractiveShellApp.init_path()\n"
     ]
    }
   ],
   "source": [
    "def seed_code(row):\n",
    "    \"\"\"\n",
    "    Helper Function:\n",
    "    Replace code field with 'seed' if type field is 'seed'\n",
    "    \"\"\"\n",
    "    if row['funding_round_type'] == 'seed':\n",
    "        return 'seed'\n",
    "    return row['funding_round_code']\n",
    "\n",
    "\n",
    "# Create new column for this\n",
    "clean_rounds_df['round_code'] = clean_rounds_df.apply(seed_code, axis=1)"
   ]
  },
  {
   "cell_type": "code",
   "execution_count": 254,
   "metadata": {},
   "outputs": [
    {
     "name": "stderr",
     "output_type": "stream",
     "text": [
      "/anaconda3/envs/metis/lib/python3.6/site-packages/pandas/core/generic.py:5208: SettingWithCopyWarning: \n",
      "A value is trying to be set on a copy of a slice from a DataFrame.\n",
      "Try using .loc[row_indexer,col_indexer] = value instead\n",
      "\n",
      "See the caveats in the documentation: http://pandas.pydata.org/pandas-docs/stable/user_guide/indexing.html#returning-a-view-versus-a-copy\n",
      "  self[name] = value\n"
     ]
    }
   ],
   "source": [
    "# Convert funding date to datetime object\n",
    "clean_rounds_df.funded_at = pd.to_datetime(clean_rounds_df.loc[:, 'funded_at'])"
   ]
  },
  {
   "cell_type": "code",
   "execution_count": 255,
   "metadata": {},
   "outputs": [],
   "source": [
    "# Group by company and round code for companies that segmented their rounds\n",
    "company_round_groups = clean_rounds_df.groupby(['company_name',\n",
    "                                                'round_code']).agg({\n",
    "                                                    'funded_at':\n",
    "                                                    'max',\n",
    "                                                    'raised_amount_usd':\n",
    "                                                    'sum'\n",
    "                                                })\n",
    "company_round_groups.reset_index(inplace=True)"
   ]
  },
  {
   "cell_type": "code",
   "execution_count": 256,
   "metadata": {},
   "outputs": [],
   "source": [
    "# Seed df\n",
    "seed_df = company_round_groups[company_round_groups.round_code ==\n",
    "                               'seed'].rename(\n",
    "                                   columns={\n",
    "                                       'company_name': 'name',\n",
    "                                       'round_code': 'seed_bool',\n",
    "                                       'funded_at': 'seed_date',\n",
    "                                       'raised_amount_usd': 'seed_amount'\n",
    "                                   })\n",
    "seed_df.seed_bool = 1"
   ]
  },
  {
   "cell_type": "code",
   "execution_count": 407,
   "metadata": {},
   "outputs": [],
   "source": [
    "# Fill in seed_bool column in df for companies with a labeled seed round\n",
    "df['seed_bool'] = 0\n",
    "df.loc[df.name.isin(seed_df.name.values), 'seed_bool'] = 1"
   ]
  },
  {
   "cell_type": "code",
   "execution_count": 408,
   "metadata": {},
   "outputs": [
    {
     "data": {
      "text/plain": [
       "0    22264\n",
       "1    10162\n",
       "Name: seed_bool, dtype: int64"
      ]
     },
     "execution_count": 408,
     "metadata": {},
     "output_type": "execute_result"
    }
   ],
   "source": [
    "df.seed_bool.value_counts()"
   ]
  },
  {
   "cell_type": "code",
   "execution_count": 409,
   "metadata": {},
   "outputs": [],
   "source": [
    "nonoperating_companies_df.to_pickle('data/df.pickle')\n",
    "df.to_pickle('data/df.pickle')"
   ]
  },
  {
   "cell_type": "markdown",
   "metadata": {},
   "source": [
    "## Fix 0 values (should be nans)"
   ]
  },
  {
   "cell_type": "code",
   "execution_count": 260,
   "metadata": {},
   "outputs": [],
   "source": [
    "with open('data/nonoperating_companies_df.pickle', 'rb') as read_file:\n",
    "    df = pickle.load(read_file)"
   ]
  },
  {
   "cell_type": "code",
   "execution_count": 261,
   "metadata": {},
   "outputs": [],
   "source": [
    "df.time_bw_first_rounds.replace(to_replace=dt.timedelta(days=0),\n",
    "                                value=np.nan,\n",
    "                                inplace=True)"
   ]
  },
  {
   "cell_type": "markdown",
   "metadata": {},
   "source": [
    "### Cleaning up date info\n",
    "Set date columns to float values"
   ]
  },
  {
   "cell_type": "code",
   "execution_count": 262,
   "metadata": {},
   "outputs": [],
   "source": [
    "# Convert timedelta columns to float values for classification models\n",
    "df['float_avg_time_bw_rounds'] = df.avg_time_bw_rounds.dt.days\n",
    "df['float_time_bw_first_rounds'] = df.time_bw_first_rounds.dt.days"
   ]
  },
  {
   "cell_type": "markdown",
   "metadata": {},
   "source": [
    "## Outliers"
   ]
  },
  {
   "cell_type": "code",
   "execution_count": 263,
   "metadata": {},
   "outputs": [],
   "source": [
    "# Store initial size of dataset\n",
    "init_size = df.shape"
   ]
  },
  {
   "cell_type": "code",
   "execution_count": 264,
   "metadata": {},
   "outputs": [
    {
     "data": {
      "text/html": [
       "<div>\n",
       "<style scoped>\n",
       "    .dataframe tbody tr th:only-of-type {\n",
       "        vertical-align: middle;\n",
       "    }\n",
       "\n",
       "    .dataframe tbody tr th {\n",
       "        vertical-align: top;\n",
       "    }\n",
       "\n",
       "    .dataframe thead th {\n",
       "        text-align: right;\n",
       "    }\n",
       "</style>\n",
       "<table border=\"1\" class=\"dataframe\">\n",
       "  <thead>\n",
       "    <tr style=\"text-align: right;\">\n",
       "      <th></th>\n",
       "      <th>funding_total_usd</th>\n",
       "      <th>funding_rounds</th>\n",
       "      <th>status_bool</th>\n",
       "      <th>avg_time_bw_rounds</th>\n",
       "      <th>avg_raise_usd</th>\n",
       "      <th>time_bw_first_rounds</th>\n",
       "      <th>seed_bool</th>\n",
       "      <th>float_avg_time_bw_rounds</th>\n",
       "      <th>float_time_bw_first_rounds</th>\n",
       "    </tr>\n",
       "  </thead>\n",
       "  <tbody>\n",
       "    <tr>\n",
       "      <td>count</td>\n",
       "      <td>2.582100e+04</td>\n",
       "      <td>32426.000000</td>\n",
       "      <td>32426.000000</td>\n",
       "      <td>9639</td>\n",
       "      <td>2.561800e+04</td>\n",
       "      <td>9433</td>\n",
       "      <td>32426.0</td>\n",
       "      <td>9639.000000</td>\n",
       "      <td>9433.000000</td>\n",
       "    </tr>\n",
       "    <tr>\n",
       "      <td>mean</td>\n",
       "      <td>1.994869e+07</td>\n",
       "      <td>1.568494</td>\n",
       "      <td>0.218806</td>\n",
       "      <td>531 days 20:20:24.842320</td>\n",
       "      <td>9.983271e+06</td>\n",
       "      <td>554 days 05:27:26.771970</td>\n",
       "      <td>0.0</td>\n",
       "      <td>531.707957</td>\n",
       "      <td>554.227393</td>\n",
       "    </tr>\n",
       "    <tr>\n",
       "      <td>std</td>\n",
       "      <td>2.436003e+08</td>\n",
       "      <td>1.183781</td>\n",
       "      <td>0.413443</td>\n",
       "      <td>467 days 18:55:03.464741</td>\n",
       "      <td>1.325715e+08</td>\n",
       "      <td>545 days 06:57:20.249379</td>\n",
       "      <td>0.0</td>\n",
       "      <td>467.805388</td>\n",
       "      <td>545.289818</td>\n",
       "    </tr>\n",
       "    <tr>\n",
       "      <td>min</td>\n",
       "      <td>2.000000e+00</td>\n",
       "      <td>1.000000</td>\n",
       "      <td>0.000000</td>\n",
       "      <td>0 days 00:00:00</td>\n",
       "      <td>0.000000e+00</td>\n",
       "      <td>1 days 00:00:00</td>\n",
       "      <td>0.0</td>\n",
       "      <td>0.000000</td>\n",
       "      <td>1.000000</td>\n",
       "    </tr>\n",
       "    <tr>\n",
       "      <td>25%</td>\n",
       "      <td>3.600000e+05</td>\n",
       "      <td>1.000000</td>\n",
       "      <td>0.000000</td>\n",
       "      <td>250 days 15:00:00</td>\n",
       "      <td>3.000000e+05</td>\n",
       "      <td>226 days 00:00:00</td>\n",
       "      <td>0.0</td>\n",
       "      <td>250.000000</td>\n",
       "      <td>226.000000</td>\n",
       "    </tr>\n",
       "    <tr>\n",
       "      <td>50%</td>\n",
       "      <td>2.100000e+06</td>\n",
       "      <td>1.000000</td>\n",
       "      <td>0.000000</td>\n",
       "      <td>421 days 00:00:00</td>\n",
       "      <td>1.600000e+06</td>\n",
       "      <td>425 days 00:00:00</td>\n",
       "      <td>0.0</td>\n",
       "      <td>421.000000</td>\n",
       "      <td>425.000000</td>\n",
       "    </tr>\n",
       "    <tr>\n",
       "      <td>75%</td>\n",
       "      <td>1.093134e+07</td>\n",
       "      <td>2.000000</td>\n",
       "      <td>0.000000</td>\n",
       "      <td>671 days 00:00:00</td>\n",
       "      <td>6.705159e+06</td>\n",
       "      <td>722 days 00:00:00</td>\n",
       "      <td>0.0</td>\n",
       "      <td>671.000000</td>\n",
       "      <td>722.000000</td>\n",
       "    </tr>\n",
       "    <tr>\n",
       "      <td>max</td>\n",
       "      <td>3.007950e+10</td>\n",
       "      <td>18.000000</td>\n",
       "      <td>1.000000</td>\n",
       "      <td>8643 days 12:00:00</td>\n",
       "      <td>1.760000e+10</td>\n",
       "      <td>16477 days 00:00:00</td>\n",
       "      <td>0.0</td>\n",
       "      <td>8643.000000</td>\n",
       "      <td>16477.000000</td>\n",
       "    </tr>\n",
       "  </tbody>\n",
       "</table>\n",
       "</div>"
      ],
      "text/plain": [
       "       funding_total_usd  funding_rounds   status_bool  \\\n",
       "count       2.582100e+04    32426.000000  32426.000000   \n",
       "mean        1.994869e+07        1.568494      0.218806   \n",
       "std         2.436003e+08        1.183781      0.413443   \n",
       "min         2.000000e+00        1.000000      0.000000   \n",
       "25%         3.600000e+05        1.000000      0.000000   \n",
       "50%         2.100000e+06        1.000000      0.000000   \n",
       "75%         1.093134e+07        2.000000      0.000000   \n",
       "max         3.007950e+10       18.000000      1.000000   \n",
       "\n",
       "             avg_time_bw_rounds  avg_raise_usd      time_bw_first_rounds  \\\n",
       "count                      9639   2.561800e+04                      9433   \n",
       "mean   531 days 20:20:24.842320   9.983271e+06  554 days 05:27:26.771970   \n",
       "std    467 days 18:55:03.464741   1.325715e+08  545 days 06:57:20.249379   \n",
       "min             0 days 00:00:00   0.000000e+00           1 days 00:00:00   \n",
       "25%           250 days 15:00:00   3.000000e+05         226 days 00:00:00   \n",
       "50%           421 days 00:00:00   1.600000e+06         425 days 00:00:00   \n",
       "75%           671 days 00:00:00   6.705159e+06         722 days 00:00:00   \n",
       "max          8643 days 12:00:00   1.760000e+10       16477 days 00:00:00   \n",
       "\n",
       "       seed_bool  float_avg_time_bw_rounds  float_time_bw_first_rounds  \n",
       "count    32426.0               9639.000000                 9433.000000  \n",
       "mean         0.0                531.707957                  554.227393  \n",
       "std          0.0                467.805388                  545.289818  \n",
       "min          0.0                  0.000000                    1.000000  \n",
       "25%          0.0                250.000000                  226.000000  \n",
       "50%          0.0                421.000000                  425.000000  \n",
       "75%          0.0                671.000000                  722.000000  \n",
       "max          0.0               8643.000000                16477.000000  "
      ]
     },
     "execution_count": 264,
     "metadata": {},
     "output_type": "execute_result"
    }
   ],
   "source": [
    "df.describe()"
   ]
  },
  {
   "cell_type": "markdown",
   "metadata": {},
   "source": [
    "The max value for several of the columns is very suspicious for time between rounds and amount ($) raised"
   ]
  },
  {
   "cell_type": "code",
   "execution_count": 265,
   "metadata": {},
   "outputs": [
    {
     "data": {
      "image/png": "[encoded data removed]",
      "text/plain": [
       "<Figure size 1080x360 with 4 Axes>"
      ]
     },
     "metadata": {
      "needs_background": "light"
     },
     "output_type": "display_data"
    }
   ],
   "source": [
    "plt.subplots(1, 4, figsize=(15, 5))\n",
    "plt.subplot(1, 4, 1)\n",
    "plt.boxplot(\n",
    "    df.float_time_bw_first_rounds[df.float_time_bw_first_rounds.notnull()])\n",
    "plt.title('Time between first rounds')\n",
    "plt.subplot(1, 4, 2)\n",
    "plt.boxplot(df.float_avg_time_bw_rounds[df.float_avg_time_bw_rounds.notnull()])\n",
    "plt.title('Average time between rounds')\n",
    "plt.subplot(1, 4, 3)\n",
    "plt.boxplot(df.avg_raise_usd[df.avg_raise_usd.notnull()])\n",
    "plt.title('Average Raise Amount')\n",
    "plt.subplot(1, 4, 4)\n",
    "plt.boxplot(df.funding_total_usd[df.funding_total_usd.notnull()])\n",
    "plt.title('Total Raise Amount')"
   ]
  },
  {
   "cell_type": "markdown",
   "metadata": {},
   "source": [
    "These are heavily skewed right - can try to cut out some of the outliers"
   ]
  },
  {
   "cell_type": "code",
   "execution_count": 266,
   "metadata": {},
   "outputs": [],
   "source": [
    "def findOutliers(df, column, lim_scalar=1.5):\n",
    "    \"\"\"\n",
    "    Returns outliers above the max limit for a column in a dataframe\n",
    "    Adjust outlier cutoff to q75 + 4*iqr to include more data\n",
    "    ---\n",
    "    input: DataFrame, column(series),lim_scalar(float)\n",
    "    output: DataFrame\n",
    "    \"\"\"\n",
    "    q25, q50, q75 = df[column].quantile(q=[0.25, 0.5, 0.75])\n",
    "    iqr = q75 - q25\n",
    "    # max limits to be considered an outlier\n",
    "    max = q75 + lim_scalar * iqr\n",
    "    # identify the points\n",
    "    outlier_mask = [True if x > max else False for x in df[column]]\n",
    "    print(\n",
    "        '{} outliers found out of {} data points, {:.2f}% of the data'.format(\n",
    "            sum(outlier_mask), len(df[column]),\n",
    "            100 * (sum(outlier_mask) / len(df[column]))))\n",
    "    return outlier_mask"
   ]
  },
  {
   "cell_type": "code",
   "execution_count": 267,
   "metadata": {},
   "outputs": [
    {
     "name": "stdout",
     "output_type": "stream",
     "text": [
      "Funding total $: \n",
      "2123 outliers found out of 32426 data points, 6.55% of the data\n",
      "Average round $: \n",
      "1498 outliers found out of 32426 data points, 4.62% of the data\n",
      "Time between first rounds: \n",
      "470 outliers found out of 32426 data points, 1.45% of the data\n",
      "Average time between rounds: \n",
      "543 outliers found out of 32426 data points, 1.67% of the data\n"
     ]
    }
   ],
   "source": [
    "print('Funding total $: ')\n",
    "fund_total_outlier_mask = pd.Series(\n",
    "    findOutliers(df, 'funding_total_usd', lim_scalar=3))\n",
    "print('Average round $: ')\n",
    "avg_raise_outlier_mask = pd.Series(\n",
    "    findOutliers(df, 'avg_raise_usd', lim_scalar=3))\n",
    "print('Time between first rounds: ')\n",
    "first_time_outlier_mask = pd.Series(\n",
    "    findOutliers(df, 'float_time_bw_first_rounds', lim_scalar=1.5))\n",
    "print('Average time between rounds: ')\n",
    "avg_time_outlier_mask = pd.Series(\n",
    "    findOutliers(df, 'float_avg_time_bw_rounds', lim_scalar=1.5))"
   ]
  },
  {
   "cell_type": "markdown",
   "metadata": {},
   "source": [
    "Lots of overlap on these points. Remove the outliers"
   ]
  },
  {
   "cell_type": "code",
   "execution_count": 268,
   "metadata": {},
   "outputs": [],
   "source": [
    "# Take out outliers\n",
    "clean_df1 = df[~fund_total_outlier_mask]\n",
    "clean_df2 = df[~avg_raise_outlier_mask]\n",
    "clean_df3 = df[~first_time_outlier_mask]\n",
    "clean_df4 = df[~avg_time_outlier_mask]\n",
    "\n",
    "clean_df = clean_df1.merge(clean_df2,\n",
    "                           left_on=list(df.columns),\n",
    "                           right_on=list(df.columns),\n",
    "                           how='inner')\n",
    "clean_df = clean_df.merge(clean_df3,\n",
    "                          left_on=list(df.columns),\n",
    "                          right_on=list(df.columns),\n",
    "                          how='inner')\n",
    "clean_df = clean_df.merge(clean_df4,\n",
    "                          left_on=list(df.columns),\n",
    "                          right_on=list(df.columns),\n",
    "                          how='inner')"
   ]
  },
  {
   "cell_type": "code",
   "execution_count": 269,
   "metadata": {},
   "outputs": [
    {
     "name": "stdout",
     "output_type": "stream",
     "text": [
      "Removed 3004 outliers, 4.86% of the original dataset\n"
     ]
    }
   ],
   "source": [
    "print('Removed {} outliers, {:.2f}% of the original dataset'.format(\n",
    "    (init_size[0] - clean_df.shape[0]), 100 *\n",
    "    ((init_size[0] - clean_df.shape[0]) / (init_size[0] + clean_df.shape[0]))))"
   ]
  },
  {
   "cell_type": "code",
   "execution_count": 270,
   "metadata": {},
   "outputs": [],
   "source": [
    "clean_df.to_pickle('data/clean_df.pickle')"
   ]
  },
  {
   "cell_type": "code",
   "execution_count": 271,
   "metadata": {},
   "outputs": [
    {
     "data": {
      "text/html": [
       "<div>\n",
       "<style scoped>\n",
       "    .dataframe tbody tr th:only-of-type {\n",
       "        vertical-align: middle;\n",
       "    }\n",
       "\n",
       "    .dataframe tbody tr th {\n",
       "        vertical-align: top;\n",
       "    }\n",
       "\n",
       "    .dataframe thead th {\n",
       "        text-align: right;\n",
       "    }\n",
       "</style>\n",
       "<table border=\"1\" class=\"dataframe\">\n",
       "  <thead>\n",
       "    <tr style=\"text-align: right;\">\n",
       "      <th></th>\n",
       "      <th>funding_total_usd</th>\n",
       "      <th>funding_rounds</th>\n",
       "      <th>status_bool</th>\n",
       "      <th>avg_time_bw_rounds</th>\n",
       "      <th>avg_raise_usd</th>\n",
       "      <th>time_bw_first_rounds</th>\n",
       "      <th>seed_bool</th>\n",
       "      <th>float_avg_time_bw_rounds</th>\n",
       "      <th>float_time_bw_first_rounds</th>\n",
       "    </tr>\n",
       "  </thead>\n",
       "  <tbody>\n",
       "    <tr>\n",
       "      <td>count</td>\n",
       "      <td>2.284600e+04</td>\n",
       "      <td>29422.000000</td>\n",
       "      <td>29422.000000</td>\n",
       "      <td>7659</td>\n",
       "      <td>2.273300e+04</td>\n",
       "      <td>7472</td>\n",
       "      <td>29422.0</td>\n",
       "      <td>7659.000000</td>\n",
       "      <td>7472.000000</td>\n",
       "    </tr>\n",
       "    <tr>\n",
       "      <td>mean</td>\n",
       "      <td>5.243217e+06</td>\n",
       "      <td>1.438651</td>\n",
       "      <td>0.184182</td>\n",
       "      <td>436 days 14:54:13.151985</td>\n",
       "      <td>3.324563e+06</td>\n",
       "      <td>447 days 02:29:44.582441</td>\n",
       "      <td>0.0</td>\n",
       "      <td>436.501632</td>\n",
       "      <td>447.103988</td>\n",
       "    </tr>\n",
       "    <tr>\n",
       "      <td>std</td>\n",
       "      <td>8.040261e+06</td>\n",
       "      <td>0.949003</td>\n",
       "      <td>0.387639</td>\n",
       "      <td>280 days 13:34:11.088023</td>\n",
       "      <td>4.756288e+06</td>\n",
       "      <td>306 days 10:57:54.058703</td>\n",
       "      <td>0.0</td>\n",
       "      <td>280.574769</td>\n",
       "      <td>306.456876</td>\n",
       "    </tr>\n",
       "    <tr>\n",
       "      <td>min</td>\n",
       "      <td>2.000000e+00</td>\n",
       "      <td>1.000000</td>\n",
       "      <td>0.000000</td>\n",
       "      <td>0 days 00:00:00</td>\n",
       "      <td>0.000000e+00</td>\n",
       "      <td>1 days 00:00:00</td>\n",
       "      <td>0.0</td>\n",
       "      <td>0.000000</td>\n",
       "      <td>1.000000</td>\n",
       "    </tr>\n",
       "    <tr>\n",
       "      <td>25%</td>\n",
       "      <td>2.672890e+05</td>\n",
       "      <td>1.000000</td>\n",
       "      <td>0.000000</td>\n",
       "      <td>228 days 00:00:00</td>\n",
       "      <td>2.500000e+05</td>\n",
       "      <td>211 days 00:00:00</td>\n",
       "      <td>0.0</td>\n",
       "      <td>228.000000</td>\n",
       "      <td>211.000000</td>\n",
       "    </tr>\n",
       "    <tr>\n",
       "      <td>50%</td>\n",
       "      <td>1.500000e+06</td>\n",
       "      <td>1.000000</td>\n",
       "      <td>0.000000</td>\n",
       "      <td>389 days 18:00:00</td>\n",
       "      <td>1.167697e+06</td>\n",
       "      <td>389 days 12:00:00</td>\n",
       "      <td>0.0</td>\n",
       "      <td>389.000000</td>\n",
       "      <td>389.500000</td>\n",
       "    </tr>\n",
       "    <tr>\n",
       "      <td>75%</td>\n",
       "      <td>6.600000e+06</td>\n",
       "      <td>2.000000</td>\n",
       "      <td>0.000000</td>\n",
       "      <td>599 days 18:00:00</td>\n",
       "      <td>4.523083e+06</td>\n",
       "      <td>633 days 00:00:00</td>\n",
       "      <td>0.0</td>\n",
       "      <td>599.500000</td>\n",
       "      <td>633.000000</td>\n",
       "    </tr>\n",
       "    <tr>\n",
       "      <td>max</td>\n",
       "      <td>4.260000e+07</td>\n",
       "      <td>18.000000</td>\n",
       "      <td>1.000000</td>\n",
       "      <td>1302 days 00:00:00</td>\n",
       "      <td>2.580000e+07</td>\n",
       "      <td>1462 days 00:00:00</td>\n",
       "      <td>0.0</td>\n",
       "      <td>1302.000000</td>\n",
       "      <td>1462.000000</td>\n",
       "    </tr>\n",
       "  </tbody>\n",
       "</table>\n",
       "</div>"
      ],
      "text/plain": [
       "       funding_total_usd  funding_rounds   status_bool  \\\n",
       "count       2.284600e+04    29422.000000  29422.000000   \n",
       "mean        5.243217e+06        1.438651      0.184182   \n",
       "std         8.040261e+06        0.949003      0.387639   \n",
       "min         2.000000e+00        1.000000      0.000000   \n",
       "25%         2.672890e+05        1.000000      0.000000   \n",
       "50%         1.500000e+06        1.000000      0.000000   \n",
       "75%         6.600000e+06        2.000000      0.000000   \n",
       "max         4.260000e+07       18.000000      1.000000   \n",
       "\n",
       "             avg_time_bw_rounds  avg_raise_usd      time_bw_first_rounds  \\\n",
       "count                      7659   2.273300e+04                      7472   \n",
       "mean   436 days 14:54:13.151985   3.324563e+06  447 days 02:29:44.582441   \n",
       "std    280 days 13:34:11.088023   4.756288e+06  306 days 10:57:54.058703   \n",
       "min             0 days 00:00:00   0.000000e+00           1 days 00:00:00   \n",
       "25%           228 days 00:00:00   2.500000e+05         211 days 00:00:00   \n",
       "50%           389 days 18:00:00   1.167697e+06         389 days 12:00:00   \n",
       "75%           599 days 18:00:00   4.523083e+06         633 days 00:00:00   \n",
       "max          1302 days 00:00:00   2.580000e+07        1462 days 00:00:00   \n",
       "\n",
       "       seed_bool  float_avg_time_bw_rounds  float_time_bw_first_rounds  \n",
       "count    29422.0               7659.000000                 7472.000000  \n",
       "mean         0.0                436.501632                  447.103988  \n",
       "std          0.0                280.574769                  306.456876  \n",
       "min          0.0                  0.000000                    1.000000  \n",
       "25%          0.0                228.000000                  211.000000  \n",
       "50%          0.0                389.000000                  389.500000  \n",
       "75%          0.0                599.500000                  633.000000  \n",
       "max          0.0               1302.000000                 1462.000000  "
      ]
     },
     "execution_count": 271,
     "metadata": {},
     "output_type": "execute_result"
    }
   ],
   "source": [
    "clean_df.describe()"
   ]
  }
 ],
 "metadata": {
  "kernelspec": {
   "display_name": "Python [conda env:metis] *",
   "language": "python",
   "name": "conda-env-metis-py"
  },
  "language_info": {
   "codemirror_mode": {
    "name": "ipython",
    "version": 3
   },
   "file_extension": ".py",
   "mimetype": "text/x-python",
   "name": "python",
   "nbconvert_exporter": "python",
   "pygments_lexer": "ipython3",
   "version": "3.6.9"
  }
 },
 "nbformat": 4,
 "nbformat_minor": 4
}
